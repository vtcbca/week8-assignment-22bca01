{
 "cells": [
  {
   "cell_type": "markdown",
   "id": "7b0d43cc-4829-47f7-ae17-ff25cd378c0d",
   "metadata": {},
   "source": [
    "### Program : 1 \n",
    "### ===========================================================================================\n",
    "#### Create CSV File for Product Selling for 6 Months and add at-least 5 Records for 5 different products. \n",
    "##### (Prod_Name, Jan ,Feb, Mar, Apr , May, Jun ) "
   ]
  },
  {
   "cell_type": "code",
   "execution_count": 85,
   "id": "6b436b0a",
   "metadata": {},
   "outputs": [],
   "source": [
    "import csv\n",
    "import matplotlib.pyplot as plt\n",
    "import pandas as pd\n",
    "%matplotlib inline"
   ]
  },
  {
   "cell_type": "code",
   "execution_count": 86,
   "id": "c3f8415e",
   "metadata": {},
   "outputs": [],
   "source": [
    "header=['Prod_Name' , 'Jan' , 'Feb' , 'Mar' , 'Apr' , 'May' , 'Jun']"
   ]
  },
  {
   "cell_type": "code",
   "execution_count": 90,
   "id": "d921765a",
   "metadata": {},
   "outputs": [
    {
     "name": "stdout",
     "output_type": "stream",
     "text": [
      "Enter product information:\n",
      "\n",
      "Product -1\n",
      "Product name:Mouse\n",
      "Sells Information(In Months):\n",
      "January: 6700\n",
      "February: 8900\n",
      "March: 4500\n",
      "April: 3200\n",
      "May: 7000\n",
      "June: 4500\n",
      "Product -2\n",
      "Product name:Keyboard\n",
      "Sells Information(In Months):\n",
      "January: 9000\n",
      "February: 12000\n",
      "March: 7500\n",
      "April: 9500\n",
      "May: 10000\n",
      "June: 5600\n",
      "Product -3\n",
      "Product name:Monitor\n",
      "Sells Information(In Months):\n",
      "January: 12000\n",
      "February: 9000\n",
      "March: 15400\n",
      "April: 12500\n",
      "May: 9400\n",
      "June: 13500\n",
      "Product -4\n",
      "Product name:Headphones\n",
      "Sells Information(In Months):\n",
      "January: 4500\n",
      "February: 3200\n",
      "March: 5600\n",
      "April: 7500\n",
      "May: 5450\n",
      "June: 6000\n",
      "Product -5\n",
      "Product name:Mics\n",
      "Sells Information(In Months):\n",
      "January: 6000\n",
      "February: 7500\n",
      "March: 9000\n",
      "April: 7700\n",
      "May: 4000\n",
      "June: 5500\n"
     ]
    }
   ],
   "source": [
    "rows=[]\n",
    "print(\"Enter product information:\\n\")\n",
    "for i in range(5):\n",
    "    print(\"Product -{}\".format(i+1))\n",
    "    prod_name=input(\"Product name:\")\n",
    "    print(\"Sells Information(In Months):\")\n",
    "    jan=int(input(\"January: \"))\n",
    "    feb=int(input(\"February: \"))\n",
    "    march=int(input(\"March: \"))\n",
    "    april=int(input(\"April: \"))\n",
    "    may=int(input(\"May: \"))\n",
    "    june=int(input(\"June: \"))\n",
    "    Prod_info=[prod_name,jan,feb,march,april,may,june]\n",
    "    rows.append(Prod_info)"
   ]
  },
  {
   "cell_type": "code",
   "execution_count": 91,
   "id": "7e67e0ab",
   "metadata": {},
   "outputs": [],
   "source": [
    "with open(\"D:\\pythonnote\\product.csv\",'w',newline='') as write_file:\n",
    "    records=csv.writer(write_file)\n",
    "    records.writerow(header)\n",
    "    records.writerows(rows)"
   ]
  },
  {
   "cell_type": "markdown",
   "id": "9255348b",
   "metadata": {},
   "source": [
    "### A. Read data in Dataframe. "
   ]
  },
  {
   "cell_type": "code",
   "execution_count": 92,
   "id": "34f249c3",
   "metadata": {},
   "outputs": [],
   "source": [
    "df=pd.read_csv(\"D:\\pythonnote\\product.csv\",header=0)"
   ]
  },
  {
   "cell_type": "markdown",
   "id": "dfd79fe2",
   "metadata": {},
   "source": [
    "### B. Add columns and calculate total_sell, average_sell. "
   ]
  },
  {
   "cell_type": "code",
   "execution_count": 93,
   "id": "8d23bdb0",
   "metadata": {},
   "outputs": [
    {
     "data": {
      "text/html": [
       "<div>\n",
       "<style scoped>\n",
       "    .dataframe tbody tr th:only-of-type {\n",
       "        vertical-align: middle;\n",
       "    }\n",
       "\n",
       "    .dataframe tbody tr th {\n",
       "        vertical-align: top;\n",
       "    }\n",
       "\n",
       "    .dataframe thead th {\n",
       "        text-align: right;\n",
       "    }\n",
       "</style>\n",
       "<table border=\"1\" class=\"dataframe\">\n",
       "  <thead>\n",
       "    <tr style=\"text-align: right;\">\n",
       "      <th></th>\n",
       "      <th>Prod_Name</th>\n",
       "      <th>Jan</th>\n",
       "      <th>Feb</th>\n",
       "      <th>Mar</th>\n",
       "      <th>Apr</th>\n",
       "      <th>May</th>\n",
       "      <th>Jun</th>\n",
       "      <th>total_sell</th>\n",
       "      <th>average_sell</th>\n",
       "    </tr>\n",
       "  </thead>\n",
       "  <tbody>\n",
       "    <tr>\n",
       "      <th>0</th>\n",
       "      <td>Mouse</td>\n",
       "      <td>6700</td>\n",
       "      <td>8900</td>\n",
       "      <td>4500</td>\n",
       "      <td>3200</td>\n",
       "      <td>7000</td>\n",
       "      <td>4500</td>\n",
       "      <td>34800</td>\n",
       "      <td>5800.000000</td>\n",
       "    </tr>\n",
       "    <tr>\n",
       "      <th>1</th>\n",
       "      <td>Keyboard</td>\n",
       "      <td>9000</td>\n",
       "      <td>12000</td>\n",
       "      <td>7500</td>\n",
       "      <td>9500</td>\n",
       "      <td>10000</td>\n",
       "      <td>5600</td>\n",
       "      <td>53600</td>\n",
       "      <td>8933.333333</td>\n",
       "    </tr>\n",
       "    <tr>\n",
       "      <th>2</th>\n",
       "      <td>Monitor</td>\n",
       "      <td>12000</td>\n",
       "      <td>9000</td>\n",
       "      <td>15400</td>\n",
       "      <td>12500</td>\n",
       "      <td>9400</td>\n",
       "      <td>13500</td>\n",
       "      <td>71800</td>\n",
       "      <td>11966.666667</td>\n",
       "    </tr>\n",
       "    <tr>\n",
       "      <th>3</th>\n",
       "      <td>Headphones</td>\n",
       "      <td>4500</td>\n",
       "      <td>3200</td>\n",
       "      <td>5600</td>\n",
       "      <td>7500</td>\n",
       "      <td>5450</td>\n",
       "      <td>6000</td>\n",
       "      <td>32250</td>\n",
       "      <td>5375.000000</td>\n",
       "    </tr>\n",
       "    <tr>\n",
       "      <th>4</th>\n",
       "      <td>Mics</td>\n",
       "      <td>6000</td>\n",
       "      <td>7500</td>\n",
       "      <td>9000</td>\n",
       "      <td>7700</td>\n",
       "      <td>4000</td>\n",
       "      <td>5500</td>\n",
       "      <td>39700</td>\n",
       "      <td>6616.666667</td>\n",
       "    </tr>\n",
       "  </tbody>\n",
       "</table>\n",
       "</div>"
      ],
      "text/plain": [
       "    Prod_Name    Jan    Feb    Mar    Apr    May    Jun  total_sell  \\\n",
       "0       Mouse   6700   8900   4500   3200   7000   4500       34800   \n",
       "1    Keyboard   9000  12000   7500   9500  10000   5600       53600   \n",
       "2     Monitor  12000   9000  15400  12500   9400  13500       71800   \n",
       "3  Headphones   4500   3200   5600   7500   5450   6000       32250   \n",
       "4        Mics   6000   7500   9000   7700   4000   5500       39700   \n",
       "\n",
       "   average_sell  \n",
       "0   5800.000000  \n",
       "1   8933.333333  \n",
       "2  11966.666667  \n",
       "3   5375.000000  \n",
       "4   6616.666667  "
      ]
     },
     "execution_count": 93,
     "metadata": {},
     "output_type": "execute_result"
    }
   ],
   "source": [
    "df['total_sell']=df['Jan']+df['Feb']+df['Mar']+df['Apr']+df['May']+df['Jun']\n",
    "df['average_sell']=df['total_sell']/6\n",
    "df"
   ]
  },
  {
   "cell_type": "markdown",
   "id": "032e74bd",
   "metadata": {},
   "source": [
    "### C. Plot Total sell and average sell together on line chart with proper Legends, titles and lables. "
   ]
  },
  {
   "cell_type": "code",
   "execution_count": 94,
   "id": "cffa03b8",
   "metadata": {},
   "outputs": [
    {
     "data": {
      "image/png": "[encoded data removed]",
      "text/plain": [
       "<Figure size 640x480 with 1 Axes>"
      ]
     },
     "metadata": {},
     "output_type": "display_data"
    }
   ],
   "source": [
    "df.plot(x='Prod_Name',\n",
    "        y=['total_sell','average_sell'],\n",
    "        color=['red','green'])\n",
    "plt.xticks(rotation = 30)\n",
    "plt.xlabel('Product Names',labelpad=30)\n",
    "plt.ylabel('Sells(IN INR)',labelpad=20)\n",
    "plt.legend(['Total Sells','Average Sells'])\n",
    "plt.title('Line Graph for Average and Total Sells')\n",
    "plt.show()"
   ]
  },
  {
   "cell_type": "markdown",
   "id": "560c8a3f",
   "metadata": {},
   "source": [
    "### D. Explain final dataframe to csv named sell_analysis.csv "
   ]
  },
  {
   "cell_type": "code",
   "execution_count": 95,
   "id": "c3f6b7c3",
   "metadata": {},
   "outputs": [],
   "source": [
    "df.to_csv(\"D:\\pythonnote\\sell_analysis.csv\")"
   ]
  }
 ],
 "metadata": {
  "kernelspec": {
   "display_name": "Python 3 (ipykernel)",
   "language": "python",
   "name": "python3"
  },
  "language_info": {
   "codemirror_mode": {
    "name": "ipython",
    "version": 3
   },
   "file_extension": ".py",
   "mimetype": "text/x-python",
   "name": "python",
   "nbconvert_exporter": "python",
   "pygments_lexer": "ipython3",
   "version": "3.11.4"
  }
 },
 "nbformat": 4,
 "nbformat_minor": 5
}
