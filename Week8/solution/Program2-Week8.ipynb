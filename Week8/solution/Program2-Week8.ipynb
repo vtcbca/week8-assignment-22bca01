{
 "cells": [
  {
   "cell_type": "markdown",
   "id": "a77396eb",
   "metadata": {},
   "source": [
    "## Program : 2 \n",
    "#### ==================================================================================================\n",
    "##### Sales (sid, year, totalsales)\n",
    "### Create above table into a SQLite database with appropriate constraints."
   ]
  },
  {
   "cell_type": "code",
   "execution_count": 194,
   "id": "cb459358",
   "metadata": {},
   "outputs": [],
   "source": [
    "import sqlite3 as sq\n",
    "import pandas as pd\n",
    "import csv\n",
    "import matplotlib.pyplot as plt"
   ]
  },
  {
   "cell_type": "code",
   "execution_count": 195,
   "id": "154ad60b",
   "metadata": {},
   "outputs": [],
   "source": [
    "%matplotlib inline"
   ]
  },
  {
   "cell_type": "code",
   "execution_count": 196,
   "id": "67405302",
   "metadata": {},
   "outputs": [],
   "source": [
    "conn=sq.connect('D:\\database\\sales.db')\n",
    "cur=conn.cursor()\n",
    "cur.execute('CREATE TABLE Sales(sid text PRIMARY KEY, year int, totalsales int)')\n",
    "conn.commit()"
   ]
  },
  {
   "cell_type": "markdown",
   "id": "21570785",
   "metadata": {},
   "source": [
    "### A. Insert at least 5-10 records into the sales table"
   ]
  },
  {
   "cell_type": "code",
   "execution_count": 197,
   "id": "e21381af",
   "metadata": {},
   "outputs": [
    {
     "name": "stdout",
     "output_type": "stream",
     "text": [
      "Enter 10 Records:-\n",
      "\n",
      "Record 1-\n",
      "Sales ID: A01\n",
      "Year: 2013\n",
      "Total Sales: 24000\n",
      "Record 2-\n",
      "Sales ID: A02\n",
      "Year: 2014\n",
      "Total Sales: 32000\n",
      "Record 3-\n",
      "Sales ID: A03\n",
      "Year: 2015\n",
      "Total Sales: 47000\n",
      "Record 4-\n",
      "Sales ID: A04\n",
      "Year: 2016\n",
      "Total Sales: 53000\n",
      "Record 5-\n",
      "Sales ID: A05\n",
      "Year: 2017\n",
      "Total Sales: 50000\n",
      "Record 6-\n",
      "Sales ID: A06\n",
      "Year: 2018\n",
      "Total Sales: 47000\n",
      "Record 7-\n",
      "Sales ID: A07\n",
      "Year: 2019\n",
      "Total Sales: 34000\n",
      "Record 8-\n",
      "Sales ID: A08\n",
      "Year: 2020\n",
      "Total Sales: 8000\n",
      "Record 9-\n",
      "Sales ID: A09\n",
      "Year: 2021\n",
      "Total Sales: 13000\n",
      "Record 10-\n",
      "Sales ID: A10\n",
      "Year: 2022\n",
      "Total Sales: 20000\n"
     ]
    },
    {
     "data": {
      "text/plain": [
       "<sqlite3.Cursor at 0x17fa0d42040>"
      ]
     },
     "execution_count": 197,
     "metadata": {},
     "output_type": "execute_result"
    }
   ],
   "source": [
    "L=[]\n",
    "print('Enter 10 Records:-\\n')\n",
    "for i in range(10):\n",
    "    print('Record {}-'.format(i+1))\n",
    "    sid=input(\"Sales ID: \")\n",
    "    year=int(input(\"Year: \"))\n",
    "    totalsales=int(input(\"Total Sales: \"))\n",
    "    t=(sid,year,totalsales)\n",
    "    L.append(t)\n",
    "cur.executemany('INSERT INTO Sales VALUES(?,?,?);',L)"
   ]
  },
  {
   "cell_type": "markdown",
   "id": "b5b139c3",
   "metadata": {},
   "source": [
    "### B. Export sales table data into sales.csv file."
   ]
  },
  {
   "cell_type": "code",
   "execution_count": 198,
   "id": "d32d2396",
   "metadata": {},
   "outputs": [],
   "source": [
    "cur.execute('SELECT * FROM Sales')\n",
    "data=cur.fetchall()\n",
    "conn.close()\n",
    "header=['Sid','Year','Total Sales']\n",
    "with open('D:\\pythonnote\\sales.csv','w',newline='') as write_obj:\n",
    "    writer=csv.writer(write_obj)\n",
    "    writer.writerow(header)\n",
    "    writer.writerows(data)"
   ]
  },
  {
   "cell_type": "markdown",
   "id": "7d20ec96",
   "metadata": {},
   "source": [
    "### C. Write a python scripts that read the sales.csv file and plot a bar chart that shows totalsales of the year. "
   ]
  },
  {
   "cell_type": "code",
   "execution_count": 199,
   "id": "0a0e6b94",
   "metadata": {},
   "outputs": [],
   "source": [
    "df=pd.read_csv('D:\\pythonnote\\sales.csv',header=0)"
   ]
  },
  {
   "cell_type": "code",
   "execution_count": 220,
   "id": "734e660a",
   "metadata": {},
   "outputs": [
    {
     "data": {
      "image/png": "[encoded data removed]",
      "text/plain": [
       "<Figure size 640x480 with 1 Axes>"
      ]
     },
     "metadata": {},
     "output_type": "display_data"
    }
   ],
   "source": [
    "df.plot(kind='bar',\n",
    "        x='Year',\n",
    "        y='Total Sales',\n",
    "        color=['red','cyan','yellow','green','pink','orange','blue','grey','violet','indigo'])\n",
    "plt.yticks([10000,20000,30000,40000,50000,60000])\n",
    "plt.xticks(rotation=30)\n",
    "plt.xlabel('Years',labelpad=30)\n",
    "plt.ylabel('Sales',labelpad=20)\n",
    "plt.legend(['Sales'])\n",
    "plt.title('Total Sales per Year')\n",
    "plt.show()"
   ]
  }
 ],
 "metadata": {
  "kernelspec": {
   "display_name": "Python 3 (ipykernel)",
   "language": "python",
   "name": "python3"
  },
  "language_info": {
   "codemirror_mode": {
    "name": "ipython",
    "version": 3
   },
   "file_extension": ".py",
   "mimetype": "text/x-python",
   "name": "python",
   "nbconvert_exporter": "python",
   "pygments_lexer": "ipython3",
   "version": "3.11.4"
  }
 },
 "nbformat": 4,
 "nbformat_minor": 5
}
